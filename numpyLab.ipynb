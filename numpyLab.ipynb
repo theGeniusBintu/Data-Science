{
 "cells": [
  {
   "cell_type": "code",
   "execution_count": null,
   "id": "3c2e443b",
   "metadata": {},
   "outputs": [],
   "source": [
    "import csv\n",
    "import numpy as np\n",
    "import pandas as pd"
   ]
  },
  {
   "cell_type": "code",
   "execution_count": null,
   "id": "78642239",
   "metadata": {},
   "outputs": [],
   "source": [
    "myArray = range(1000)\n",
    "%timeit [x*2 for x in myArray]"
   ]
  },
  {
   "cell_type": "code",
   "execution_count": null,
   "id": "5a03036b",
   "metadata": {},
   "outputs": [],
   "source": [
    "import numpy as np\n",
    "otherArray = np.arange(1000)\n",
    "%timeit [otherArray * 2]"
   ]
  },
  {
   "cell_type": "code",
   "execution_count": null,
   "id": "4142503b",
   "metadata": {},
   "outputs": [],
   "source": [
    "with open('AAPL-2017.csv', newline = '') as firstfile :\n",
    "    firstfilereader = csv.DictReader(firstfile)\n",
    "    firstfiledata = np.empty((0,6), dtype = np.float64)\n",
    "    \n",
    "    for column in firstfilereader:\n",
    "        oneColumn = np.array([[column['Open'], column['High'], column['Low'],column['Close'], column['Adj Close'], column['Volume'] ]])\n",
    "        firstfiledata = np.append(firstfiledata,oneColumn,axis=0)\n",
    "        \n",
    "file2017 = firstfiledata.astype(float)         \n",
    "print(file2017)\n",
    "print(file2017.shape)\n",
    "print(file2017.ndim)\n",
    "    \n",
    "    "
   ]
  },
  {
   "cell_type": "code",
   "execution_count": null,
   "id": "6d1bfcb2",
   "metadata": {},
   "outputs": [],
   "source": [
    "with open('AAPL-2016.csv', newline = '') as secondfile :\n",
    "    secondfilereader = csv.DictReader(secondfile)\n",
    "    secondfiledata = np.empty((0,6), dtype = np.float64)\n",
    "    \n",
    "    for column in secondfilereader:\n",
    "        oneColumn = np.array([[column['Open'], column['High'], column['Low'],column['Close'], column['Adj Close'], column['Volume'] ]])\n",
    "        secondfiledata = np.append(secondfiledata,oneColumn,axis=0)\n",
    "        \n",
    "file2016 = secondfiledata.astype(float)         \n",
    "print(file2016)\n",
    "print(file2016.shape)\n",
    "print(file2016.ndim)\n",
    "    \n",
    "    "
   ]
  },
  {
   "cell_type": "code",
   "execution_count": null,
   "id": "24e3e31d",
   "metadata": {},
   "outputs": [],
   "source": [
    "col_sum_file2017 = file2017.sum(axis=0)\n",
    "print('sum of columns for AAPL-2017: \\n',col_sum_file2017)\n",
    "\n",
    "row_sum_file2017 = file2017.sum(axis=1)\n",
    "print('sum of rows for AAPL-2016: \\n',row_sum_file2017)\n",
    "\n",
    "col_sum_file2016 = file2016.sum(axis=0)\n",
    "print('sum of columns for AAPL-2016: \\n',col_sum_file2016)\n",
    "\n",
    "row_sum_file2016 = file2016.sum(axis=1)\n",
    "print('sum of rows for AAPL-2016: \\n',row_sum_file2016)\n",
    "\n",
    "column_total = col_sum_file2017 + col_sum_file2016\n",
    "print('column sum: \\n', column_total)\n",
    "\n",
    "row_total = row_sum_file2017 + row_sum_file2016\n",
    "print('row sum: \\n', row_total)"
   ]
  },
  {
   "cell_type": "code",
   "execution_count": null,
   "id": "04ac354d",
   "metadata": {},
   "outputs": [],
   "source": [
    "difference_col = col_sum_file2017 - col_sum_file2016\n",
    "print('difference: \\n', difference_col)\n",
    "print('change in traded volume: \\n',difference_col.sum(axis=0))\n",
    "\n",
    "# difference_row = row_sum_file2017 - row_sum_file2016\n",
    "# print('difference: \\n', difference_row)\n"
   ]
  },
  {
   "cell_type": "code",
   "execution_count": null,
   "id": "db518c29",
   "metadata": {},
   "outputs": [],
   "source": [
    "change = difference_col.sum(axis=0)\n",
    "print('change', change)\n"
   ]
  },
  {
   "cell_type": "code",
   "execution_count": null,
   "id": "5a01525f",
   "metadata": {},
   "outputs": [],
   "source": [
    "np.set_printoptions(formatter={'float': '{: 6.2f}'.format})\n",
    "print(difference_col)"
   ]
  },
  {
   "cell_type": "code",
   "execution_count": null,
   "id": "c655fcf1",
   "metadata": {},
   "outputs": [],
   "source": [
    "combined_years = np.concatenate((file2017 , file2016), axis = 1)"
   ]
  },
  {
   "cell_type": "code",
   "execution_count": null,
   "id": "d5785731",
   "metadata": {},
   "outputs": [],
   "source": [
    "# var = with open ('CombinedYears.txt' , 'w') \n",
    "# var.write(combined_years)\n",
    "np.savetxt('CombinedYears.txt', combined_years, fmt= '%10.2f', delimiter=',', newline='\\n', header='', footer='', comments='# ', encoding=None)"
   ]
  },
  {
   "cell_type": "code",
   "execution_count": null,
   "id": "67a791e9",
   "metadata": {},
   "outputs": [],
   "source": [
    "# print(file2016)\n",
    "january = file2017[20:25]\n",
    "print(january)\n",
    "\n",
    "january[0,5] = 100"
   ]
  },
  {
   "cell_type": "code",
   "execution_count": null,
   "id": "06ec06c1",
   "metadata": {},
   "outputs": [],
   "source": [
    "maximum = file2017[3].max(axis = 0)\n",
    "print(maximum)\n",
    "\n",
    "minimum = file2017[3].min(axis = 0)\n",
    "print(minimum)"
   ]
  },
  {
   "cell_type": "code",
   "execution_count": null,
   "id": "a2aa83a1",
   "metadata": {},
   "outputs": [],
   "source": [
    "verticalHighLow = file2017[:, [1,5]][0:5]\n",
    "print(verticalHighLow)"
   ]
  },
  {
   "cell_type": "code",
   "execution_count": null,
   "id": "35600caa",
   "metadata": {},
   "outputs": [],
   "source": [
    "open_and_close_prices = file2017[:, [0,5]]\n",
    "print(open_and_close_prices[0:5])"
   ]
  },
  {
   "cell_type": "code",
   "execution_count": null,
   "id": "6071616e",
   "metadata": {},
   "outputs": [],
   "source": [
    "projection = open_and_close_prices\n",
    "projection[:,[0]] = projection[:,[0]]*1.1 \n",
    "projection[:,[0]] = projection[:,[0]]*1.2\n",
    "\n",
    "print(projection[0:5])\n"
   ]
  },
  {
   "cell_type": "code",
   "execution_count": null,
   "id": "1b4cd601",
   "metadata": {},
   "outputs": [],
   "source": []
  }
 ],
 "metadata": {
  "kernelspec": {
   "display_name": "Python 3",
   "language": "python",
   "name": "python3"
  },
  "language_info": {
   "codemirror_mode": {
    "name": "ipython",
    "version": 3
   },
   "file_extension": ".py",
   "mimetype": "text/x-python",
   "name": "python",
   "nbconvert_exporter": "python",
   "pygments_lexer": "ipython3",
   "version": "3.8.8"
  }
 },
 "nbformat": 4,
 "nbformat_minor": 5
}
